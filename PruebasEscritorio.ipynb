{
 "cells": [
  {
   "cell_type": "code",
   "execution_count": 1,
   "metadata": {},
   "outputs": [
    {
     "name": "stderr",
     "output_type": "stream",
     "text": [
      "c:\\Users\\Adolfo\\AppData\\Local\\Programs\\Python\\Python310\\lib\\site-packages\\tqdm\\auto.py:22: TqdmWarning: IProgress not found. Please update jupyter and ipywidgets. See https://ipywidgets.readthedocs.io/en/stable/user_install.html\n",
      "  from .autonotebook import tqdm as notebook_tqdm\n"
     ]
    },
    {
     "ename": "AssertionError",
     "evalue": "Choose a model with internal embeddings i.e. md or lg.",
     "output_type": "error",
     "traceback": [
      "\u001b[1;31m---------------------------------------------------------------------------\u001b[0m",
      "\u001b[1;31mAssertionError\u001b[0m                            Traceback (most recent call last)",
      "\u001b[1;32mc:\\Users\\Adolfo\\Desktop\\pythontest\\PruebasEscritorio.ipynb Celda 1\u001b[0m in \u001b[0;36m<cell line: 32>\u001b[1;34m()\u001b[0m\n\u001b[0;32m     <a href='vscode-notebook-cell:/c%3A/Users/Adolfo/Desktop/pythontest/PruebasEscritorio.ipynb#ch0000000?line=28'>29</a>\u001b[0m \u001b[39m# use any model that has internal spacy embeddings\u001b[39;00m\n\u001b[0;32m     <a href='vscode-notebook-cell:/c%3A/Users/Adolfo/Desktop/pythontest/PruebasEscritorio.ipynb#ch0000000?line=29'>30</a>\u001b[0m nlp \u001b[39m=\u001b[39m spacy\u001b[39m.\u001b[39mload(\u001b[39m\"\u001b[39m\u001b[39m./models/output/model-last\u001b[39m\u001b[39m\"\u001b[39m)\n\u001b[1;32m---> <a href='vscode-notebook-cell:/c%3A/Users/Adolfo/Desktop/pythontest/PruebasEscritorio.ipynb#ch0000000?line=31'>32</a>\u001b[0m nlp\u001b[39m.\u001b[39;49madd_pipe(\u001b[39m\"\u001b[39;49m\u001b[39mconcise_concepts\u001b[39;49m\u001b[39m\"\u001b[39;49m, \n\u001b[0;32m     <a href='vscode-notebook-cell:/c%3A/Users/Adolfo/Desktop/pythontest/PruebasEscritorio.ipynb#ch0000000?line=32'>33</a>\u001b[0m     config\u001b[39m=\u001b[39;49m{\u001b[39m\"\u001b[39;49m\u001b[39mdata\u001b[39;49m\u001b[39m\"\u001b[39;49m: data}\n\u001b[0;32m     <a href='vscode-notebook-cell:/c%3A/Users/Adolfo/Desktop/pythontest/PruebasEscritorio.ipynb#ch0000000?line=33'>34</a>\u001b[0m )\n\u001b[0;32m     <a href='vscode-notebook-cell:/c%3A/Users/Adolfo/Desktop/pythontest/PruebasEscritorio.ipynb#ch0000000?line=34'>35</a>\u001b[0m unaccented_string \u001b[39m=\u001b[39m unidecode\u001b[39m.\u001b[39munidecode(text)\n\u001b[0;32m     <a href='vscode-notebook-cell:/c%3A/Users/Adolfo/Desktop/pythontest/PruebasEscritorio.ipynb#ch0000000?line=36'>37</a>\u001b[0m doc \u001b[39m=\u001b[39m nlp(unaccented_string)\n",
      "File \u001b[1;32mc:\\Users\\Adolfo\\AppData\\Local\\Programs\\Python\\Python310\\lib\\site-packages\\spacy\\language.py:795\u001b[0m, in \u001b[0;36mLanguage.add_pipe\u001b[1;34m(self, factory_name, name, before, after, first, last, source, config, raw_config, validate)\u001b[0m\n\u001b[0;32m    787\u001b[0m     \u001b[39mif\u001b[39;00m \u001b[39mnot\u001b[39;00m \u001b[39mself\u001b[39m\u001b[39m.\u001b[39mhas_factory(factory_name):\n\u001b[0;32m    788\u001b[0m         err \u001b[39m=\u001b[39m Errors\u001b[39m.\u001b[39mE002\u001b[39m.\u001b[39mformat(\n\u001b[0;32m    789\u001b[0m             name\u001b[39m=\u001b[39mfactory_name,\n\u001b[0;32m    790\u001b[0m             opts\u001b[39m=\u001b[39m\u001b[39m\"\u001b[39m\u001b[39m, \u001b[39m\u001b[39m\"\u001b[39m\u001b[39m.\u001b[39mjoin(\u001b[39mself\u001b[39m\u001b[39m.\u001b[39mfactory_names),\n\u001b[1;32m   (...)\u001b[0m\n\u001b[0;32m    793\u001b[0m             lang_code\u001b[39m=\u001b[39m\u001b[39mself\u001b[39m\u001b[39m.\u001b[39mlang,\n\u001b[0;32m    794\u001b[0m         )\n\u001b[1;32m--> 795\u001b[0m     pipe_component \u001b[39m=\u001b[39m \u001b[39mself\u001b[39;49m\u001b[39m.\u001b[39;49mcreate_pipe(\n\u001b[0;32m    796\u001b[0m         factory_name,\n\u001b[0;32m    797\u001b[0m         name\u001b[39m=\u001b[39;49mname,\n\u001b[0;32m    798\u001b[0m         config\u001b[39m=\u001b[39;49mconfig,\n\u001b[0;32m    799\u001b[0m         raw_config\u001b[39m=\u001b[39;49mraw_config,\n\u001b[0;32m    800\u001b[0m         validate\u001b[39m=\u001b[39;49mvalidate,\n\u001b[0;32m    801\u001b[0m     )\n\u001b[0;32m    802\u001b[0m pipe_index \u001b[39m=\u001b[39m \u001b[39mself\u001b[39m\u001b[39m.\u001b[39m_get_pipe_index(before, after, first, last)\n\u001b[0;32m    803\u001b[0m \u001b[39mself\u001b[39m\u001b[39m.\u001b[39m_pipe_meta[name] \u001b[39m=\u001b[39m \u001b[39mself\u001b[39m\u001b[39m.\u001b[39mget_factory_meta(factory_name)\n",
      "File \u001b[1;32mc:\\Users\\Adolfo\\AppData\\Local\\Programs\\Python\\Python310\\lib\\site-packages\\spacy\\language.py:674\u001b[0m, in \u001b[0;36mLanguage.create_pipe\u001b[1;34m(self, factory_name, name, config, raw_config, validate)\u001b[0m\n\u001b[0;32m    671\u001b[0m cfg \u001b[39m=\u001b[39m {factory_name: config}\n\u001b[0;32m    672\u001b[0m \u001b[39m# We're calling the internal _fill here to avoid constructing the\u001b[39;00m\n\u001b[0;32m    673\u001b[0m \u001b[39m# registered functions twice\u001b[39;00m\n\u001b[1;32m--> 674\u001b[0m resolved \u001b[39m=\u001b[39m registry\u001b[39m.\u001b[39;49mresolve(cfg, validate\u001b[39m=\u001b[39;49mvalidate)\n\u001b[0;32m    675\u001b[0m filled \u001b[39m=\u001b[39m registry\u001b[39m.\u001b[39mfill({\u001b[39m\"\u001b[39m\u001b[39mcfg\u001b[39m\u001b[39m\"\u001b[39m: cfg[factory_name]}, validate\u001b[39m=\u001b[39mvalidate)[\u001b[39m\"\u001b[39m\u001b[39mcfg\u001b[39m\u001b[39m\"\u001b[39m]\n\u001b[0;32m    676\u001b[0m filled \u001b[39m=\u001b[39m Config(filled)\n",
      "File \u001b[1;32mc:\\Users\\Adolfo\\AppData\\Local\\Programs\\Python\\Python310\\lib\\site-packages\\thinc\\config.py:746\u001b[0m, in \u001b[0;36mregistry.resolve\u001b[1;34m(cls, config, schema, overrides, validate)\u001b[0m\n\u001b[0;32m    737\u001b[0m \u001b[39m@classmethod\u001b[39m\n\u001b[0;32m    738\u001b[0m \u001b[39mdef\u001b[39;00m \u001b[39mresolve\u001b[39m(\n\u001b[0;32m    739\u001b[0m     \u001b[39mcls\u001b[39m,\n\u001b[1;32m   (...)\u001b[0m\n\u001b[0;32m    744\u001b[0m     validate: \u001b[39mbool\u001b[39m \u001b[39m=\u001b[39m \u001b[39mTrue\u001b[39;00m,\n\u001b[0;32m    745\u001b[0m ) \u001b[39m-\u001b[39m\u001b[39m>\u001b[39m Dict[\u001b[39mstr\u001b[39m, Any]:\n\u001b[1;32m--> 746\u001b[0m     resolved, _ \u001b[39m=\u001b[39m \u001b[39mcls\u001b[39;49m\u001b[39m.\u001b[39;49m_make(\n\u001b[0;32m    747\u001b[0m         config, schema\u001b[39m=\u001b[39;49mschema, overrides\u001b[39m=\u001b[39;49moverrides, validate\u001b[39m=\u001b[39;49mvalidate, resolve\u001b[39m=\u001b[39;49m\u001b[39mTrue\u001b[39;49;00m\n\u001b[0;32m    748\u001b[0m     )\n\u001b[0;32m    749\u001b[0m     \u001b[39mreturn\u001b[39;00m resolved\n",
      "File \u001b[1;32mc:\\Users\\Adolfo\\AppData\\Local\\Programs\\Python\\Python310\\lib\\site-packages\\thinc\\config.py:795\u001b[0m, in \u001b[0;36mregistry._make\u001b[1;34m(cls, config, schema, overrides, resolve, validate)\u001b[0m\n\u001b[0;32m    793\u001b[0m \u001b[39mif\u001b[39;00m \u001b[39mnot\u001b[39;00m is_interpolated:\n\u001b[0;32m    794\u001b[0m     config \u001b[39m=\u001b[39m Config(orig_config)\u001b[39m.\u001b[39minterpolate()\n\u001b[1;32m--> 795\u001b[0m filled, _, resolved \u001b[39m=\u001b[39m \u001b[39mcls\u001b[39;49m\u001b[39m.\u001b[39;49m_fill(\n\u001b[0;32m    796\u001b[0m     config, schema, validate\u001b[39m=\u001b[39;49mvalidate, overrides\u001b[39m=\u001b[39;49moverrides, resolve\u001b[39m=\u001b[39;49mresolve\n\u001b[0;32m    797\u001b[0m )\n\u001b[0;32m    798\u001b[0m filled \u001b[39m=\u001b[39m Config(filled, section_order\u001b[39m=\u001b[39msection_order)\n\u001b[0;32m    799\u001b[0m \u001b[39m# Check that overrides didn't include invalid properties not in config\u001b[39;00m\n",
      "File \u001b[1;32mc:\\Users\\Adolfo\\AppData\\Local\\Programs\\Python\\Python310\\lib\\site-packages\\thinc\\config.py:867\u001b[0m, in \u001b[0;36mregistry._fill\u001b[1;34m(cls, config, schema, validate, resolve, parent, overrides)\u001b[0m\n\u001b[0;32m    864\u001b[0m     getter \u001b[39m=\u001b[39m \u001b[39mcls\u001b[39m\u001b[39m.\u001b[39mget(reg_name, func_name)\n\u001b[0;32m    865\u001b[0m     \u001b[39m# We don't want to try/except this and raise our own error\u001b[39;00m\n\u001b[0;32m    866\u001b[0m     \u001b[39m# here, because we want the traceback if the function fails.\u001b[39;00m\n\u001b[1;32m--> 867\u001b[0m     getter_result \u001b[39m=\u001b[39m getter(\u001b[39m*\u001b[39margs, \u001b[39m*\u001b[39m\u001b[39m*\u001b[39mkwargs)\n\u001b[0;32m    868\u001b[0m \u001b[39melse\u001b[39;00m:\n\u001b[0;32m    869\u001b[0m     \u001b[39m# We're not resolving and calling the function, so replace\u001b[39;00m\n\u001b[0;32m    870\u001b[0m     \u001b[39m# the getter_result with a Promise class\u001b[39;00m\n\u001b[0;32m    871\u001b[0m     getter_result \u001b[39m=\u001b[39m Promise(\n\u001b[0;32m    872\u001b[0m         registry\u001b[39m=\u001b[39mreg_name, name\u001b[39m=\u001b[39mfunc_name, args\u001b[39m=\u001b[39margs, kwargs\u001b[39m=\u001b[39mkwargs\n\u001b[0;32m    873\u001b[0m     )\n",
      "File \u001b[1;32mc:\\Users\\Adolfo\\AppData\\Local\\Programs\\Python\\Python310\\lib\\site-packages\\concise_concepts\\__init__.py:16\u001b[0m, in \u001b[0;36mmake_concise_concepts\u001b[1;34m(nlp, name, data, topn, model_path, ent_score)\u001b[0m\n\u001b[0;32m      9\u001b[0m \u001b[39m@Language\u001b[39m\u001b[39m.\u001b[39mfactory(\n\u001b[0;32m     10\u001b[0m     \u001b[39m\"\u001b[39m\u001b[39mconcise_concepts\u001b[39m\u001b[39m\"\u001b[39m,\n\u001b[0;32m     11\u001b[0m     default_config\u001b[39m=\u001b[39m{\u001b[39m\"\u001b[39m\u001b[39mdata\u001b[39m\u001b[39m\"\u001b[39m: \u001b[39mNone\u001b[39;00m, \u001b[39m\"\u001b[39m\u001b[39mtopn\u001b[39m\u001b[39m\"\u001b[39m: [], \u001b[39m\"\u001b[39m\u001b[39mmodel_path\u001b[39m\u001b[39m\"\u001b[39m: \u001b[39mNone\u001b[39;00m, \u001b[39m\"\u001b[39m\u001b[39ment_score\u001b[39m\u001b[39m\"\u001b[39m: \u001b[39mFalse\u001b[39;00m},\n\u001b[1;32m   (...)\u001b[0m\n\u001b[0;32m     14\u001b[0m     nlp: Language, name: \u001b[39mstr\u001b[39m, data: Union[\u001b[39mdict\u001b[39m, \u001b[39mlist\u001b[39m], topn: \u001b[39mlist\u001b[39m, model_path: Union[\u001b[39mstr\u001b[39m, \u001b[39mNone\u001b[39;00m], ent_score: \u001b[39mbool\u001b[39m\n\u001b[0;32m     15\u001b[0m ):\n\u001b[1;32m---> 16\u001b[0m     \u001b[39mreturn\u001b[39;00m Conceptualizer(nlp\u001b[39m=\u001b[39;49mnlp, name\u001b[39m=\u001b[39;49mname, data\u001b[39m=\u001b[39;49mdata, topn\u001b[39m=\u001b[39;49mtopn, model_path\u001b[39m=\u001b[39;49mmodel_path, ent_score\u001b[39m=\u001b[39;49ment_score)\n",
      "File \u001b[1;32mc:\\Users\\Adolfo\\AppData\\Local\\Programs\\Python\\Python310\\lib\\site-packages\\concise_concepts\\conceptualizer\\Conceptualizer.py:29\u001b[0m, in \u001b[0;36mConceptualizer.__init__\u001b[1;34m(self, nlp, name, data, topn, model_path, ent_score)\u001b[0m\n\u001b[0;32m     27\u001b[0m \u001b[39mself\u001b[39m\u001b[39m.\u001b[39mtopn \u001b[39m=\u001b[39m topn\n\u001b[0;32m     28\u001b[0m \u001b[39mself\u001b[39m\u001b[39m.\u001b[39mmodel_path \u001b[39m=\u001b[39m model_path\n\u001b[1;32m---> 29\u001b[0m \u001b[39mself\u001b[39;49m\u001b[39m.\u001b[39;49mrun()\n\u001b[0;32m     30\u001b[0m \u001b[39mself\u001b[39m\u001b[39m.\u001b[39mdata_upper \u001b[39m=\u001b[39m {k\u001b[39m.\u001b[39mupper(): v \u001b[39mfor\u001b[39;00m k, v \u001b[39min\u001b[39;00m data\u001b[39m.\u001b[39mitems()}\n",
      "File \u001b[1;32mc:\\Users\\Adolfo\\AppData\\Local\\Programs\\Python\\Python310\\lib\\site-packages\\concise_concepts\\conceptualizer\\Conceptualizer.py:34\u001b[0m, in \u001b[0;36mConceptualizer.run\u001b[1;34m(self)\u001b[0m\n\u001b[0;32m     32\u001b[0m \u001b[39mdef\u001b[39;00m \u001b[39mrun\u001b[39m(\u001b[39mself\u001b[39m):\n\u001b[0;32m     33\u001b[0m     \u001b[39mself\u001b[39m\u001b[39m.\u001b[39mdetermine_topn()\n\u001b[1;32m---> 34\u001b[0m     \u001b[39mself\u001b[39;49m\u001b[39m.\u001b[39;49mset_gensim_model()\n\u001b[0;32m     35\u001b[0m     \u001b[39mself\u001b[39m\u001b[39m.\u001b[39mverify_data()\n\u001b[0;32m     36\u001b[0m     \u001b[39mself\u001b[39m\u001b[39m.\u001b[39mexpand_concepts()\n",
      "File \u001b[1;32mc:\\Users\\Adolfo\\AppData\\Local\\Programs\\Python\\Python310\\lib\\site-packages\\concise_concepts\\conceptualizer\\Conceptualizer.py:91\u001b[0m, in \u001b[0;36mConceptualizer.set_gensim_model\u001b[1;34m(self)\u001b[0m\n\u001b[0;32m     88\u001b[0m wordList \u001b[39m=\u001b[39m []\n\u001b[0;32m     89\u001b[0m vectorList \u001b[39m=\u001b[39m []\n\u001b[1;32m---> 91\u001b[0m \u001b[39massert\u001b[39;00m \u001b[39mlen\u001b[39m(\u001b[39mself\u001b[39m\u001b[39m.\u001b[39mnlp\u001b[39m.\u001b[39mvocab\u001b[39m.\u001b[39mvectors), \u001b[39m\"\u001b[39m\u001b[39mChoose a model with internal embeddings i.e. md or lg.\u001b[39m\u001b[39m\"\u001b[39m\n\u001b[0;32m     93\u001b[0m \u001b[39mfor\u001b[39;00m key, vector \u001b[39min\u001b[39;00m \u001b[39mself\u001b[39m\u001b[39m.\u001b[39mnlp\u001b[39m.\u001b[39mvocab\u001b[39m.\u001b[39mvectors\u001b[39m.\u001b[39mitems():\n\u001b[0;32m     94\u001b[0m     wordList\u001b[39m.\u001b[39mappend(\u001b[39mself\u001b[39m\u001b[39m.\u001b[39mnlp\u001b[39m.\u001b[39mvocab\u001b[39m.\u001b[39mstrings[key])\n",
      "\u001b[1;31mAssertionError\u001b[0m: Choose a model with internal embeddings i.e. md or lg."
     ]
    }
   ],
   "source": [
    "import spacy\n",
    "from spacy import displacy\n",
    "import concise_concepts\n",
    "import unidecode\n",
    "\n",
    "data = {\n",
    "    \"empresasApolo\": [unidecode.unidecode(\"si vale\"), unidecode.unidecode(\"telefonica\")]\n",
    "}\n",
    "\n",
    "text = \"\"\"\n",
    "   El grupo Telefónica venderá el 45% de su participación en Bluevia Fibra, una nueva sociedad para desplegar y comercializar la red de fibra óptica en zonas rurales de España, por 1,021 millones de euros a un consorcio formado por Crédit Agricole Assurances y Vauban Infrastructure Partners.\n",
    "\n",
    "\"El consorcio formado por Vauban/CAA adquirirá de Telefónica España un 45% de Bluevia por un importe de 1,021 millones de euros en efectivo [casi 1,050 millones de dólares, ndlr], valorando el 100% de Bluevia en 2.500 millones de euros\", informó la compañía en un comunicado enviado este lunes a la Comisión Nacional del Mercado de Valores (CNMV) en Madrid.\n",
    "\n",
    "Por este acuerdo, Bluevia comprará a Telefónica España 3.5 millones de unidades inmobiliarias ya pasadas, que representan un 13% de la red de fibra óptica hasta el hogar que posee la compañía en todo el país. Telefónica mantendrá la propiedad del resto de la red, según detalla el comunicado.\n",
    "\n",
    "Se espera que Bluevia despliegue, de su lado, 1.5 millones adicionales en los próximos dos años, lo que elevaría su alcance a cinco millones de hogares con fibra disponible en zonas rurales españolas, con poco solape de otras redes de operadores.\n",
    "\n",
    "Bluevia será, por tanto, un operador mayorista neutro que tendrá a Telefónica España como cliente principal tambien se menciona la participacion de la empresa Si Vale Mexico dentro de las negociaciones.\n",
    "\n",
    "La empresa Si vale mexico tambien maneja una tarjeta de credito.\n",
    "\n",
    "El gigante español de las telecomunicaciones, a través de sus filiales Telefónica España y Telefónica Infra, poseerá un 55% del capital de la sociedad conjunta, mientras que Vauban y Crédit Agricole tendrán el 45% restante.\n",
    "\n",
    "Telefónica, que pretende desconectar su red de cobre minorista en España en 2024, afirma que esta transacción se enmarca dentro de la estrategia del grupo que incluye, entre otros objetivos, una \"política activa de gestión de cartera de sus negocios y activos\".\n",
    "\n",
    "Para completarse, la operación debe obtener las autorizaciones regulatorias correspondientes..\"\"\"\n",
    "\n",
    "# use any model that has internal spacy embeddings\n",
    "nlp = spacy.load(\"../models/output/model-best\")\n",
    "        \n",
    "nlp.add_pipe(\"concise_concepts\", \n",
    "    config={\"data\": data}\n",
    ")\n",
    "unaccented_string = unidecode.unidecode(text)\n",
    "\n",
    "doc = nlp(unaccented_string)\n",
    "\n",
    "options = {\"colors\": {\"empresasapolo\": \"darkorange\"},\n",
    "           \"ents\": [\"empresasapolo\"]}\n",
    "\n",
    "displacy.render(doc, style=\"ent\", options=options)"
   ]
  }
 ],
 "metadata": {
  "kernelspec": {
   "display_name": "Python 3.10.5 64-bit",
   "language": "python",
   "name": "python3"
  },
  "language_info": {
   "codemirror_mode": {
    "name": "ipython",
    "version": 3
   },
   "file_extension": ".py",
   "mimetype": "text/x-python",
   "name": "python",
   "nbconvert_exporter": "python",
   "pygments_lexer": "ipython3",
   "version": "3.10.5"
  },
  "orig_nbformat": 4,
  "vscode": {
   "interpreter": {
    "hash": "c8045260058ce78d91bfcba6f26a8332d255756bd7658ea995399a8c233e7bf8"
   }
  }
 },
 "nbformat": 4,
 "nbformat_minor": 2
}
